{
  "cells": [
    {
      "cell_type": "markdown",
      "metadata": {
        "id": "keP6t_s7dVs7"
      },
      "source": [
        "## <center>Computer Science Intensive Course - MindX</center>\n",
        "![](./assets/logo.png)\n",
        "# <center>KIỂM TRA GIỮA KHÓA</center>"
      ]
    },
    {
      "cell_type": "markdown",
      "metadata": {
        "id": "dHjIvFp2dVtD"
      },
      "source": [
        "**Hướng dẫn làm bài**:\n",
        "- Dùng kiến thức đã học để cài đặt các thuật toán giải quyết yêu cầu đề bài.\n",
        "- Nộp đáp án của mỗi bài dưới dạng function. Giữ nguyên tên và parameter được cho sẵn. Trả về kết quả bằng lệnh <code>return</code>, không dùng <code>print()</code> trong bài nộp.\n",
        "- Không <code>import</code> thư viện. Chỉ dùng các cấu trúc dữ liệu và hàm cho sẵn trong Python.\n",
        "  + Hợp lệ: <code>arr = list([1, 2, 3])</code>, <code>sorted_arr = sorted(arr)</code>, <code>index = arr.index(2)</code>\n",
        "  + Không hợp lệ: <code>import numpy</code>, <code>math.sqrt(9)</code>\n",
        "- Đáp án phải được tìm bằng thuật toán, không dùng kết quả ngẫu nhiên.\n",
        "- Có thể sử dụng hàm <code>help()</code> để xem thông tin về các cấu trúc dữ liệu và hàm. Ví dụ: <code>help(sorted)</code>\n",
        "\n",
        "**Đánh giá điểm**:\n",
        "- Mỗi bài được chạy trên 10 test cases với kích thước input tăng dần.  \n",
        "  Bài nộp được chấp nhận trên một test case nếu trả về đúng kết quả trong thời gian tối đa **1 giây**.\n",
        "- Có tổng cộng 60 test cases cho 6 bài, mỗi test case 2 điểm. Điểm cao nhất có thể đạt được là **120 điểm**.\n",
        "\n",
        "**Nộp bài**:\n",
        "- Chạy đoạn test cho sẵn để kiểm tra bài nộp hợp lệ.\n",
        "- Định dạng tên file: <code>FullName-CSIMidtermTest.ipynb</code>\n",
        "\n",
        "**Chúc các bạn thành công!**"
      ]
    },
    {
      "cell_type": "markdown",
      "metadata": {
        "id": "5mQuBeUHdVtE"
      },
      "source": [
        "## Bài 1. Tìm Mode\n",
        "\n",
        "Mode của một tập hợp được định nghĩa là phần tử xuất hiện lặp lại nhiều lần nhất trong tập hợp đó. Một tập hợp có thể:\n",
        "- Không có mode vì không có phần tử nào lặp lại. Ví dụ: <code>[1, 2, 3, 4]</code>\n",
        "- Có một mode. Ví dụ: <code>[1, 2, 2, 2, 3, 3]</code> có mode là <code>2</code>\n",
        "- Có nhiều mode. Ví dụ: <code>[1, 2, 1, 2, 3]</code> có mode là <code>1</code> và <code>2</code>\n",
        "\n",
        "**Yêu cầu**: Cho một danh sách các số nguyên, tìm mode có giá trị lớn nhất trong danh sách.\n",
        "\n",
        "**Input**: Một <code>list</code> chứa *0 < n < 10<sup>6</sup>* số nguyên. Mỗi phần tử có giá trị trong khoảng [-10<sup>9</sup>, 10<sup>9</sup>].  \n",
        "**Output**: Một số nguyên duy nhất là mode có giá trị lớn nhất trong danh sách. Trả về <code>None</code> nếu không tìm thấy.  \n",
        "**Ví dụ**:\n",
        "- Input: <code>[1, 2, 3, 2, 3]</code>\n",
        "- Output: <code>3</code>\n",
        "- Giải thích: Danh sách có hai mode là <code>2</code> và <code>3</code>. Ta trả về mode lớn nhất là <code>3</code>"
      ]
    },
    {
      "cell_type": "code",
      "execution_count": 25,
      "metadata": {},
      "outputs": [],
      "source": [
        "def find_mode(arr):\n",
        "    count = {}\n",
        "    for i in arr:\n",
        "        count[i] = count.get(i, 0) + 1\n",
        "    mf = max(count.values())  \n",
        "    if mf == 1:\n",
        "        return None  \n",
        "    modes = [k for k, v in count.items() if v == mf]\n",
        "    return max(modes)  \n",
        "\n"
      ]
    },
    {
      "cell_type": "code",
      "execution_count": 26,
      "metadata": {
        "id": "r-iITDuAdVtH",
        "outputId": "02b78d92-1fe5-492b-bcc1-4a4a3f5ed981"
      },
      "outputs": [
        {
          "name": "stdout",
          "output_type": "stream",
          "text": [
            "Correct answer on sample test!\n"
          ]
        }
      ],
      "source": [
        "# test before submission\n",
        "try:\n",
        "    assert(find_mode([1, 2, 3, 2, 3]) == 3)\n",
        "    print('Correct answer on sample test!')\n",
        "except:\n",
        "    print('Invalid submission or Wrong answer!')"
      ]
    },
    {
      "cell_type": "markdown",
      "metadata": {
        "id": "eSavbtFldVtL"
      },
      "source": [
        "## Bài 2. Tìm Tổng\n",
        "\n",
        "Dãy con liên tục là một dãy các phần tử liên tiếp nhau của một dãy nào đó. Một dãy con liên tục có độ dài nhỏ nhất bằng một và độ dài lớn nhất bằng dãy chứa nó.\n",
        "\n",
        "**Yêu cầu**: Cho một dãy các số nguyên, kiểm tra có tồn tại dãy con liên tục có tổng các phần tử bằng một giá trị cho trước hay không.\n",
        "\n",
        "**Input**: Một số nguyên *0 < k < 10<sup>9</sup>* và một <code>list</code> chứa *0 < n < 10<sup>5</sup>* số nguyên. Mỗi phần tử có giá trị trong khoảng [1, 10<sup>5</sup>].  \n",
        "**Output**: Trả về <code>True</code> nếu tồn tại một dãy con liên tục có tổng các phần tử bằng <code>k</code>. Ngược lại trả về <code>False</code>.  \n",
        "**Ví dụ**:  \n",
        "\n",
        "Ví dụ 1:\n",
        "- Input: <code>8, [1, 5, 3, 2, 5]</code>\n",
        "- Output: <code>True</code>\n",
        "- Giải thích: Tồn tại một dãy con liên tục là <code>[5, 3]</code> có tổng bằng <code>8</code>.\n",
        "\n",
        "Ví dụ 2:\n",
        "- Input: <code>5, [1, 5, 3, 2, 5]</code>\n",
        "- Output: <code>True</code>\n",
        "- Giải thích: Tồn tại ba dãy con liên tục là <code>[5]</code>, <code>[3, 2]</code> và <code>[5]</code> có tổng bằng <code>5</code>."
      ]
    },
    {
      "cell_type": "code",
      "execution_count": 31,
      "metadata": {
        "id": "SrrlYXmPdVtM"
      },
      "outputs": [],
      "source": [
        "def has_sequence_with_sum(target_sum, arr):\n",
        "    n = len(arr)\n",
        "    for i in range(n):\n",
        "        current_sum = 0\n",
        "        for j in range(i, n):\n",
        "            current_sum += arr[j]\n",
        "            if current_sum == target_sum:\n",
        "                return True\n",
        "    return False\n",
        "    "
      ]
    },
    {
      "cell_type": "code",
      "execution_count": 37,
      "metadata": {
        "id": "gC7VxcfedVtM",
        "outputId": "5dabf004-44d2-4527-9970-5f5f43da3f41"
      },
      "outputs": [
        {
          "name": "stdout",
          "output_type": "stream",
          "text": [
            "Correct answer on sample test!\n"
          ]
        }
      ],
      "source": [
        "\n",
        "try:\n",
        "    assert(has_sequence_with_sum(8, [1, 5, 3, 2, 5]) == True)\n",
        "    print('Correct answer on sample test!')\n",
        "except:\n",
        "    print('Invalid submission or Wrong answer!')"
      ]
    },
    {
      "cell_type": "markdown",
      "metadata": {
        "id": "poplFspjdVtM"
      },
      "source": [
        "## Bài 3. Đổi Chỗ\n",
        "\n",
        "Trong các thuật toán đã học, ta thường đổi chỗ các phần tử trong quá trình sắp xếp để đưa chúng về vị trí thích hợp. Một bước đổi chỗ *(swap)* được định nghĩa là quá trình hoán đổi vị trí giữa hai phần tử khác nhau trong dãy.  \n",
        "\n",
        "Ví dụ ta có mảng <code>arr = [2, 5, 3, 1]</code>, một bước đổi chỗ thực hiện trên hai phần tử <code>arr[1]</code> và <code>arr[3]</code> sẽ biến mảng <code>arr</code> thành <code>[2, 1, 3, 5]</code>.\n",
        "\n",
        "**Yêu cầu**: Cho một dãy các số nguyên không trùng nhau, hãy tìm số lần đổi chỗ ít nhất để đưa dãy về trạng thái đã sắp xếp theo thứ tự tăng dần.\n",
        "\n",
        "**Input**: Một <code>list</code> chứa *0 < n < 10<sup>5</sup>* số nguyên. Mỗi phần tử có giá trị trong khoảng [-10<sup>9</sup>, 10<sup>9</sup>].  \n",
        "**Output**: Trả về một số nguyên là số lần đổi chỗ ít nhất để đưa dãy về trạng thái đã sắp xếp tăng dần.  \n",
        "**Ví dụ**:  \n",
        "\n",
        "Ví dụ 1:\n",
        "- Input: <code>[2, 5, 3, 1]</code>\n",
        "- Output: <code>2</code>\n",
        "- Giải thích: Ta thực hiện hai bước đổi chỗ như sau:\n",
        "  <pre>\n",
        "  swap(0, 3) => arr = [1, 5, 3, 2]\n",
        "  swap(1, 3) => arr = [1, 2, 3, 5]\n",
        "  </pre>\n",
        "\n",
        "Ví dụ 2:\n",
        "- Input: <code>[5, 2, 3, 1]</code>\n",
        "- Output: <code>1</code>\n",
        "- Giải thích: Ta thực hiện 1 bước đổi chỗ cho phần tử đầu và phần tử cuối."
      ]
    },
    {
      "cell_type": "code",
      "execution_count": 40,
      "metadata": {
        "id": "cvQ22Z-AdVtN"
      },
      "outputs": [],
      "source": [
        "def count_swap(arr):\n",
        "    count = 0\n",
        "    for i in range(len(arr)):\n",
        "        min_idx = i\n",
        "        for j in range(i + 1, len(arr)):\n",
        "            if arr[j] < arr[min_idx]:\n",
        "                min_idx = j\n",
        "        if min_idx != i:\n",
        "            arr[i], arr[min_idx] = arr[min_idx], arr[i]\n",
        "            count += 1\n",
        "    return count"
      ]
    },
    {
      "cell_type": "code",
      "execution_count": 41,
      "metadata": {
        "id": "eKkK2qzPdVtN",
        "outputId": "6f150d01-3217-42c6-d150-f7d3255b3e77"
      },
      "outputs": [
        {
          "name": "stdout",
          "output_type": "stream",
          "text": [
            "Correct answer on sample test!\n"
          ]
        }
      ],
      "source": [
        "# test before submission\n",
        "try:\n",
        "    assert(count_swap([2, 5, 3, 1]) == 2)\n",
        "    print('Correct answer on sample test!')\n",
        "except:\n",
        "    print('Invalid submission or Wrong answer!')"
      ]
    },
    {
      "cell_type": "markdown",
      "metadata": {
        "id": "dkm9MvrodVtP"
      },
      "source": [
        "# END"
      ]
    }
  ],
  "metadata": {
    "colab": {
      "provenance": []
    },
    "kernelspec": {
      "display_name": "Python 3",
      "language": "python",
      "name": "python3"
    },
    "language_info": {
      "codemirror_mode": {
        "name": "ipython",
        "version": 3
      },
      "file_extension": ".py",
      "mimetype": "text/x-python",
      "name": "python",
      "nbconvert_exporter": "python",
      "pygments_lexer": "ipython3",
      "version": "3.12.4"
    }
  },
  "nbformat": 4,
  "nbformat_minor": 0
}
